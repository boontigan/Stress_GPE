{
 "cells": [
  {
   "cell_type": "markdown",
   "metadata": {},
   "source": [
    "# ABAQUS"
   ]
  },
  {
   "cell_type": "markdown",
   "metadata": {},
   "source": [
    "Write an abaqus input to calculate stresses related variations in gravitational potential energy. \n",
    "The abaqus input file created by this script has the following features:\n",
    "\n",
    "- Geometry: \n",
    "    - 2 spherical layers of thick shell continuum elements. \n",
    "    - Top layer thickness is specified by user and bottom layer has a thickness of 100 km. \n",
    "    - Bottom layer of nodes are pinned (i.e. fixed degrees of freedom in u1, u2 and u3 directions).  \n",
    "    - The spacing of the grid is defined by the user and the grid geometry files are read in from external files.\n",
    "\n",
    "- Materials: \n",
    "    - Linearly elastic solid.  The poisson's ratio is 0.3 in both layers.  \n",
    "    - The Young's modulus of the base layer is low (1e6) in order to prevent transmission of stresses related to the pinned basal nodes.  \n",
    "    - The upper layer has a uniform Young's modulus of 1e11 or a variable Young's modulus.  \n",
    "    - For the variable Young's modulus case, the user specifies a separate Young's modulus value for plate interior and plate boundary regions (plate boundary regions should be weaker). \n",
    "    - The plate boundaries are defined by either world strain map active deforming zones or the nuvel0a plate boundaries.\n",
    "\n",
    "- Loads: \n",
    "    - Outward tractions (GPE/thickness) applied to the horizontal faces of each element.  \n",
    "    - The direction of the traction vector will be determined by the sign of the outward tractions. \n",
    "    - Note that outward tractions are read in from an external file.  An option exists to restrict mean mean outward pressure variations to specific geographic regions.\n",
    "\n",
    "- Displacements: \n",
    "    - The code also will write an input file that displaces the nodes of the upper element layer in accordance with estimates of dynamic topography.  \n",
    "    - Note that this option cannot be used at the same time as the GPE loading option as in this case a strain is being applied (the GPE loads are an applied stress).\n",
    "\n",
    "Last Modified: August 24, 2021. by Gan Kuhasubpasin\n"
   ]
  },
  {
   "cell_type": "markdown",
   "metadata": {},
   "source": [
    "## Import"
   ]
  },
  {
   "cell_type": "code",
   "execution_count": 1,
   "metadata": {},
   "outputs": [
    {
     "name": "stderr",
     "output_type": "stream",
     "text": [
      "/Users/boontigan/opt/anaconda3/lib/python3.8/site-packages/scipy/__init__.py:146: UserWarning: A NumPy version >=1.16.5 and <1.23.0 is required for this version of SciPy (detected version 1.24.4\n",
      "  warnings.warn(f\"A NumPy version >={np_minversion} and <{np_maxversion}\"\n"
     ]
    }
   ],
   "source": [
    "import numpy as np\n",
    "import pandas as pd\n",
    "import math \n",
    "import scipy.interpolate\n",
    "from matplotlib import cm\n",
    "import matplotlib.mlab as ml\n",
    "import matplotlib.pyplot as plt\n",
    "from mpl_toolkits.basemap import Basemap\n",
    "\n",
    "import warnings\n",
    "warnings.simplefilter(action = \"ignore\", category = FutureWarning)\n",
    "\n",
    "# display plots in SVG format\n",
    "%config InlineBackend.figure_format = 'svg'\n",
    "%matplotlib inline"
   ]
  },
  {
   "cell_type": "markdown",
   "metadata": {},
   "source": [
    "## 1. Specifice analysis type and Loading input"
   ]
  },
  {
   "cell_type": "code",
   "execution_count": 16,
   "metadata": {},
   "outputs": [
    {
     "name": "stdout",
     "output_type": "stream",
     "text": [
      "Enter analysis type: 1 for GPE, 2 for dynamic radial displacement  1\n",
      "Enter grid resolution (2, 1, 0.5 or 0.25 degrees) 2\n",
      "Enter root name of geom and gpe files (root_GPE/GEOM) test\n"
     ]
    },
    {
     "ename": "FileNotFoundError",
     "evalue": "test_GPE_EA2E not found.",
     "output_type": "error",
     "traceback": [
      "\u001b[0;31m---------------------------------------------------------------------------\u001b[0m",
      "\u001b[0;31mFileNotFoundError\u001b[0m                         Traceback (most recent call last)",
      "Input \u001b[0;32mIn [16]\u001b[0m, in \u001b[0;36m<cell line: 3>\u001b[0;34m()\u001b[0m\n\u001b[1;32m      6\u001b[0m     \u001b[38;5;66;03m# Loading interpolated GPE pressure file\u001b[39;00m\n\u001b[1;32m      7\u001b[0m     gpeFile \u001b[38;5;241m=\u001b[39m root\u001b[38;5;241m+\u001b[39m\u001b[38;5;124m'\u001b[39m\u001b[38;5;124m_GPE_EA\u001b[39m\u001b[38;5;124m'\u001b[39m\u001b[38;5;241m+\u001b[39m\u001b[38;5;28mstr\u001b[39m(resolution)\u001b[38;5;241m+\u001b[39m\u001b[38;5;124m'\u001b[39m\u001b[38;5;124mE\u001b[39m\u001b[38;5;124m'\u001b[39m\n\u001b[0;32m----> 8\u001b[0m     PRS \u001b[38;5;241m=\u001b[39m \u001b[43mnp\u001b[49m\u001b[38;5;241;43m.\u001b[39;49m\u001b[43mloadtxt\u001b[49m\u001b[43m(\u001b[49m\u001b[43mgpeFile\u001b[49m\u001b[43m)\u001b[49m\n\u001b[1;32m     10\u001b[0m \u001b[38;5;28;01melif\u001b[39;00m analysis_type \u001b[38;5;241m==\u001b[39m \u001b[38;5;241m2\u001b[39m:\n\u001b[1;32m     11\u001b[0m     dynfile \u001b[38;5;241m=\u001b[39m \u001b[38;5;28minput\u001b[39m(\u001b[38;5;124m'\u001b[39m\u001b[38;5;124mEnter name of dynamic topography file on EA nodal grid\u001b[39m\u001b[38;5;124m'\u001b[39m)\n",
      "File \u001b[0;32m~/opt/anaconda3/lib/python3.8/site-packages/numpy/lib/npyio.py:1356\u001b[0m, in \u001b[0;36mloadtxt\u001b[0;34m(fname, dtype, comments, delimiter, converters, skiprows, usecols, unpack, ndmin, encoding, max_rows, quotechar, like)\u001b[0m\n\u001b[1;32m   1353\u001b[0m \u001b[38;5;28;01mif\u001b[39;00m \u001b[38;5;28misinstance\u001b[39m(delimiter, \u001b[38;5;28mbytes\u001b[39m):\n\u001b[1;32m   1354\u001b[0m     delimiter \u001b[38;5;241m=\u001b[39m delimiter\u001b[38;5;241m.\u001b[39mdecode(\u001b[38;5;124m'\u001b[39m\u001b[38;5;124mlatin1\u001b[39m\u001b[38;5;124m'\u001b[39m)\n\u001b[0;32m-> 1356\u001b[0m arr \u001b[38;5;241m=\u001b[39m \u001b[43m_read\u001b[49m\u001b[43m(\u001b[49m\u001b[43mfname\u001b[49m\u001b[43m,\u001b[49m\u001b[43m \u001b[49m\u001b[43mdtype\u001b[49m\u001b[38;5;241;43m=\u001b[39;49m\u001b[43mdtype\u001b[49m\u001b[43m,\u001b[49m\u001b[43m \u001b[49m\u001b[43mcomment\u001b[49m\u001b[38;5;241;43m=\u001b[39;49m\u001b[43mcomment\u001b[49m\u001b[43m,\u001b[49m\u001b[43m \u001b[49m\u001b[43mdelimiter\u001b[49m\u001b[38;5;241;43m=\u001b[39;49m\u001b[43mdelimiter\u001b[49m\u001b[43m,\u001b[49m\n\u001b[1;32m   1357\u001b[0m \u001b[43m            \u001b[49m\u001b[43mconverters\u001b[49m\u001b[38;5;241;43m=\u001b[39;49m\u001b[43mconverters\u001b[49m\u001b[43m,\u001b[49m\u001b[43m \u001b[49m\u001b[43mskiplines\u001b[49m\u001b[38;5;241;43m=\u001b[39;49m\u001b[43mskiprows\u001b[49m\u001b[43m,\u001b[49m\u001b[43m \u001b[49m\u001b[43musecols\u001b[49m\u001b[38;5;241;43m=\u001b[39;49m\u001b[43musecols\u001b[49m\u001b[43m,\u001b[49m\n\u001b[1;32m   1358\u001b[0m \u001b[43m            \u001b[49m\u001b[43munpack\u001b[49m\u001b[38;5;241;43m=\u001b[39;49m\u001b[43munpack\u001b[49m\u001b[43m,\u001b[49m\u001b[43m \u001b[49m\u001b[43mndmin\u001b[49m\u001b[38;5;241;43m=\u001b[39;49m\u001b[43mndmin\u001b[49m\u001b[43m,\u001b[49m\u001b[43m \u001b[49m\u001b[43mencoding\u001b[49m\u001b[38;5;241;43m=\u001b[39;49m\u001b[43mencoding\u001b[49m\u001b[43m,\u001b[49m\n\u001b[1;32m   1359\u001b[0m \u001b[43m            \u001b[49m\u001b[43mmax_rows\u001b[49m\u001b[38;5;241;43m=\u001b[39;49m\u001b[43mmax_rows\u001b[49m\u001b[43m,\u001b[49m\u001b[43m \u001b[49m\u001b[43mquote\u001b[49m\u001b[38;5;241;43m=\u001b[39;49m\u001b[43mquotechar\u001b[49m\u001b[43m)\u001b[49m\n\u001b[1;32m   1361\u001b[0m \u001b[38;5;28;01mreturn\u001b[39;00m arr\n",
      "File \u001b[0;32m~/opt/anaconda3/lib/python3.8/site-packages/numpy/lib/npyio.py:975\u001b[0m, in \u001b[0;36m_read\u001b[0;34m(fname, delimiter, comment, quote, imaginary_unit, usecols, skiplines, max_rows, converters, ndmin, unpack, dtype, encoding)\u001b[0m\n\u001b[1;32m    973\u001b[0m     fname \u001b[38;5;241m=\u001b[39m os\u001b[38;5;241m.\u001b[39mfspath(fname)\n\u001b[1;32m    974\u001b[0m \u001b[38;5;28;01mif\u001b[39;00m \u001b[38;5;28misinstance\u001b[39m(fname, \u001b[38;5;28mstr\u001b[39m):\n\u001b[0;32m--> 975\u001b[0m     fh \u001b[38;5;241m=\u001b[39m \u001b[43mnp\u001b[49m\u001b[38;5;241;43m.\u001b[39;49m\u001b[43mlib\u001b[49m\u001b[38;5;241;43m.\u001b[39;49m\u001b[43m_datasource\u001b[49m\u001b[38;5;241;43m.\u001b[39;49m\u001b[43mopen\u001b[49m\u001b[43m(\u001b[49m\u001b[43mfname\u001b[49m\u001b[43m,\u001b[49m\u001b[43m \u001b[49m\u001b[38;5;124;43m'\u001b[39;49m\u001b[38;5;124;43mrt\u001b[39;49m\u001b[38;5;124;43m'\u001b[39;49m\u001b[43m,\u001b[49m\u001b[43m \u001b[49m\u001b[43mencoding\u001b[49m\u001b[38;5;241;43m=\u001b[39;49m\u001b[43mencoding\u001b[49m\u001b[43m)\u001b[49m\n\u001b[1;32m    976\u001b[0m     \u001b[38;5;28;01mif\u001b[39;00m encoding \u001b[38;5;129;01mis\u001b[39;00m \u001b[38;5;28;01mNone\u001b[39;00m:\n\u001b[1;32m    977\u001b[0m         encoding \u001b[38;5;241m=\u001b[39m \u001b[38;5;28mgetattr\u001b[39m(fh, \u001b[38;5;124m'\u001b[39m\u001b[38;5;124mencoding\u001b[39m\u001b[38;5;124m'\u001b[39m, \u001b[38;5;124m'\u001b[39m\u001b[38;5;124mlatin1\u001b[39m\u001b[38;5;124m'\u001b[39m)\n",
      "File \u001b[0;32m~/opt/anaconda3/lib/python3.8/site-packages/numpy/lib/_datasource.py:193\u001b[0m, in \u001b[0;36mopen\u001b[0;34m(path, mode, destpath, encoding, newline)\u001b[0m\n\u001b[1;32m    156\u001b[0m \u001b[38;5;124;03m\"\"\"\u001b[39;00m\n\u001b[1;32m    157\u001b[0m \u001b[38;5;124;03mOpen `path` with `mode` and return the file object.\u001b[39;00m\n\u001b[1;32m    158\u001b[0m \n\u001b[0;32m   (...)\u001b[0m\n\u001b[1;32m    189\u001b[0m \n\u001b[1;32m    190\u001b[0m \u001b[38;5;124;03m\"\"\"\u001b[39;00m\n\u001b[1;32m    192\u001b[0m ds \u001b[38;5;241m=\u001b[39m DataSource(destpath)\n\u001b[0;32m--> 193\u001b[0m \u001b[38;5;28;01mreturn\u001b[39;00m \u001b[43mds\u001b[49m\u001b[38;5;241;43m.\u001b[39;49m\u001b[43mopen\u001b[49m\u001b[43m(\u001b[49m\u001b[43mpath\u001b[49m\u001b[43m,\u001b[49m\u001b[43m \u001b[49m\u001b[43mmode\u001b[49m\u001b[43m,\u001b[49m\u001b[43m \u001b[49m\u001b[43mencoding\u001b[49m\u001b[38;5;241;43m=\u001b[39;49m\u001b[43mencoding\u001b[49m\u001b[43m,\u001b[49m\u001b[43m \u001b[49m\u001b[43mnewline\u001b[49m\u001b[38;5;241;43m=\u001b[39;49m\u001b[43mnewline\u001b[49m\u001b[43m)\u001b[49m\n",
      "File \u001b[0;32m~/opt/anaconda3/lib/python3.8/site-packages/numpy/lib/_datasource.py:533\u001b[0m, in \u001b[0;36mDataSource.open\u001b[0;34m(self, path, mode, encoding, newline)\u001b[0m\n\u001b[1;32m    530\u001b[0m     \u001b[38;5;28;01mreturn\u001b[39;00m _file_openers[ext](found, mode\u001b[38;5;241m=\u001b[39mmode,\n\u001b[1;32m    531\u001b[0m                               encoding\u001b[38;5;241m=\u001b[39mencoding, newline\u001b[38;5;241m=\u001b[39mnewline)\n\u001b[1;32m    532\u001b[0m \u001b[38;5;28;01melse\u001b[39;00m:\n\u001b[0;32m--> 533\u001b[0m     \u001b[38;5;28;01mraise\u001b[39;00m \u001b[38;5;167;01mFileNotFoundError\u001b[39;00m(\u001b[38;5;124mf\u001b[39m\u001b[38;5;124m\"\u001b[39m\u001b[38;5;132;01m{\u001b[39;00mpath\u001b[38;5;132;01m}\u001b[39;00m\u001b[38;5;124m not found.\u001b[39m\u001b[38;5;124m\"\u001b[39m)\n",
      "\u001b[0;31mFileNotFoundError\u001b[0m: test_GPE_EA2E not found."
     ]
    }
   ],
   "source": [
    "analysis_type = int(input('Enter analysis type: 1 for GPE, 2 for dynamic radial displacement  '))\n",
    "resolution = int(input('Enter grid resolution (2, 1, 0.5 or 0.25 degrees) '))\n",
    "if analysis_type == 1:\n",
    "    root = input('Enter root name of geom and gpe files (root_GPE/GEOM) ')\n",
    "    \n",
    "    # Loading interpolated GPE pressure file\n",
    "    gpeFile = root+'_GPE_EA'+str(resolution)+'E'\n",
    "    PRS = np.loadtxt(gpeFile)\n",
    "    \n",
    "elif analysis_type == 2:\n",
    "    dynfile = input('Enter name of dynamic topography file on EA nodal grid')\n",
    "    root = input('Enter root name for input file (root.inp) ')\n",
    "    dynfiledirec = '../LDS_Data/LDS_Data_DynTopo/'+dynfile\n",
    "    dyntopo = np.loadtxt(dynfiledirec)\n"
   ]
  },
  {
   "cell_type": "markdown",
   "metadata": {},
   "source": [
    "## 2. Specifications for model size, geometry and rheology"
   ]
  },
  {
   "cell_type": "code",
   "execution_count": 3,
   "metadata": {},
   "outputs": [
    {
     "name": "stdout",
     "output_type": "stream",
     "text": [
      "Enter the thickness (km) of the lithosphere element layer  100\n",
      "Enter 1 for uniform top layer Youngs Modulus, 2 for weak plate boundaries1\n"
     ]
    }
   ],
   "source": [
    "# Defining the number of shared edges\n",
    "nelsEdge = 2*math.ceil(54/(2*resolution))\n",
    "\n",
    "# Calculating the number of spherical elements and nodes\n",
    "sphElements = nelsEdge*nelsEdge*12; \n",
    "sphNodes = ((nelsEdge-1)*(nelsEdge-1)*12) + 24*(nelsEdge+1)-34\n",
    "\n",
    "# Define the number of lithospheric layers (it should be 1 when using continuum shell elements)\n",
    "numLayers = 1\n",
    "\n",
    "#User defines the thickness of the lithospheric shell element layer.\n",
    "LithLayerThk = int(input('Enter the thickness (km) of the lithosphere element layer  '))\n",
    "\n",
    "# Defining the thickness of the weak base layer element thickness.\n",
    "baseLayerThk = 100\n",
    "\n",
    "# Specify Poisson's ratio for upper layer and basal layer.\n",
    "Poisson = np.zeros(3)\n",
    "Poisson[0] = 0.3  # upper layer (plate interior)\n",
    "Poisson[1] = 0.3  # upper layer (plate boundary)\n",
    "Poisson[2] = 0.3  # basal layer\n",
    "\n",
    "# Upper (stong) layer rheology.  The user can choose to have a constant Young's modulus value for the top layer, which would be defined by the  variable topE (topE is always set to 1E11).  \n",
    "# Alternatively, the user can choose to have elements within plate boundary regions be weaker (lower Young's modulus) than the plate interiors.  \n",
    "# In this case the user defines the Young's  modulus value for the plate boundary region elements (PBtopE) and the Young's modulus for the plate interior (PItopE) is set to 1E11.\n",
    "\n",
    "topEinput = int(input('Enter 1 for uniform top layer Youngs Modulus, 2 for weak plate boundaries'))\n",
    "\n",
    "Young = np.zeros(3)\n",
    "if topEinput == 1:\n",
    "    Young[0] = 1e11\n",
    "    Young[1] = 1e11\n",
    "else:\n",
    "    Young[0] = 1e11\n",
    "    Young[1] = float(input('Enter Youngs Modulus of top layer elements in plate boundary regions'))\n",
    "\n",
    "# Basal layer Young's modulus\n",
    "Young[2] = 1e6"
   ]
  },
  {
   "cell_type": "markdown",
   "metadata": {},
   "source": [
    "## 3. Loading file for creating Abaqus mesh"
   ]
  },
  {
   "cell_type": "code",
   "execution_count": 4,
   "metadata": {},
   "outputs": [],
   "source": [
    "# Loading file that shows which nodes are associated with each element\n",
    "eco_file = 'EA_ECon_' + str(resolution) + '.txt'\n",
    "EC = np.loadtxt(eco_file, delimiter=',')\n",
    "\n",
    "# Loading file that contains the node number and 3 cartesian coordinates \n",
    "# defining the node location relative to a sphere with a non-dimensional \n",
    "# radius of 1.\n",
    "nds_file = 'EA_Nodes_' + str(resolution) + '.txt'\n",
    "N = np.loadtxt(nds_file, delimiter=',')\n",
    "\n",
    "# Loading file that contains the element number and 3 cartesian \n",
    "# coordinates defining the center of each element relative to a sphere \n",
    "# with a non-dimensional radius of 1.\n",
    "els_file = 'EA_Elements_' + str(resolution) + '.txt'\n",
    "E = np.loadtxt(els_file, delimiter=',')\n",
    "\n",
    "# Loading files that indicate the elements within the specified distance of the plate boundary, \n",
    "# if the weak plate boundary element option was selected.\n",
    "if topEinput == 2  :\n",
    "    # User chooses what file to use for distinguishing plate boundary vs. plate interior elements.  \n",
    "    # Columns in the plate boundary and plate interior files:\n",
    "    #   1) element number  2) longitude ( 0 - 360)  3) latitude (-90 - 90) \n",
    "    filePBname = input('Enter element plate boundary file name  ')\n",
    "    filePB = np.loadtxt(filePBname, delimiter=',')\n",
    "    \n",
    "    filePIname = input('Enter element plate interior file name  ')\n",
    "    filePI = np.loadtxt(filePIname, delimiter=',')\n"
   ]
  },
  {
   "cell_type": "markdown",
   "metadata": {},
   "source": [
    "## 4. Section to specificy options for applying mean MOP in GPE case\n",
    "\n"
   ]
  },
  {
   "cell_type": "code",
   "execution_count": 5,
   "metadata": {},
   "outputs": [
    {
     "name": "stdout",
     "output_type": "stream",
     "text": [
      "Enter 1 to restrict MOP values to a specific geographical region, 0 for no0\n"
     ]
    }
   ],
   "source": [
    "if analysis_type == 1:\n",
    "\n",
    "    # User chooses whether or not to restrict geographical region where \n",
    "    # mean outward pressure values are applied.  Outside of the specified \n",
    "    # geographical region mean outward pressure values are set to the \n",
    "    # reference column MOP value\n",
    "    restrictMOP = int(input('Enter 1 to restrict MOP values to a specific geographical region, 0 for no'))\n",
    "\n",
    "    # If option selected, specify lat and lon of region where MOP values will be applied\n",
    "    if restrictMOP == 1:\n",
    "        print('Think carefully about how the restricted MOP region lat-lon values are assigned!')\n",
    "        print('Latitude ~ -90 - 90;  Longitude ~ -180 - 180')\n",
    "        latMax = float(input('Enter maximum latitude of region with non-zero MOP values'))\n",
    "        latMin = float(input('Enter minimum latitude of region with non-zero MOP values'))\n",
    "        lonMax = float(input('Enter maximum longitude of region with non-zero MOP values'))\n",
    "        lonMin = float(input('Enter minimum longitude of region with non-zero MOP values'))\n",
    "\n",
    "    # Create a new variable containing mean outward pressure values from column 6 of the GPE file (PRSvariable).  \n",
    "    # The MOP value of each element outside the specified geographical area is set to the\n",
    "    # MOP value of the reference column.\n",
    "    if restrictMOP == 1:\n",
    "        PRS_Restricted = np.zeros(sphElements)\n",
    "        for i in range(0,sphElements):\n",
    "            if PRS[i,1]<=latMax and PRS[i,1]>=latMin and PRS[i,2]<=lonMax and PRS[i,2]>=lonMin:\n",
    "                PRS_Restricted[i] = PRS[i,4]\n",
    "            else:\n",
    "                PRS_Restricted[i] = PRS[5559-1,4]\n"
   ]
  },
  {
   "cell_type": "markdown",
   "metadata": {},
   "source": [
    "## 5. Name abaqus input file and open it to write"
   ]
  },
  {
   "cell_type": "code",
   "execution_count": 6,
   "metadata": {},
   "outputs": [],
   "source": [
    "res_string = '_EA' + str(resolution)\n",
    "\n",
    "#% If GPE loading analysis selected\n",
    "if analysis_type == 1:\n",
    "\n",
    "    # String for models with MOP values restricted to a specifc geographic region\n",
    "    if restrictMOP==1:\n",
    "        # Create string that describes geographical restrictions for MOP values \n",
    "        \n",
    "        #Min latitude\n",
    "        if latMin >= 0:\n",
    "            latMin_string = str(latMin)+'N'\n",
    "        elif latMin < 0:\n",
    "            latMin_string = str(latMin)+'S'\n",
    "         \n",
    "        # Max latitude\n",
    "        if latMax >= 0:\n",
    "            latMax_string = str(latMax) + 'N'\n",
    "        elif latMax < 0:\n",
    "            latMax_string = str(abs(latMax)) + 'S'\n",
    "        \n",
    "        # Min longitude\n",
    "        if lonMin >= 0:\n",
    "            lonMin_string = str(lonMin) + 'E'\n",
    "        elif lonMin < 0:\n",
    "            lonMin_string = str(abs(lonMin)) + 'W'\n",
    "        \n",
    "        # Max longitude\n",
    "        if lonMax >= 0:\n",
    "            lonMax_string = str(lonMax)+'E'\n",
    "        elif lonMax < 0:\n",
    "            lonMax_string = str(abs(lonMax))+'W'\n",
    "        \n",
    "        # String\n",
    "        restrictMOP_string = '_R'+latMin_string+latMax_string+lonMin_string+lonMax_string\n",
    "    elif restrictMOP==0:\n",
    "        restrictMOP_string = ''\n",
    "\n",
    "    # String for models with lower Young's modulus at weak plate boundaries\n",
    "    if topEinput == 2:\n",
    "        if len(filePBname) == 23:\n",
    "            wpb_string = '_WPB' + str(np.log10(Young[0]/Young[1]))+'WSM'\n",
    "        elif len(filePBname) == 26:\n",
    "            wpb_string = '_WPB'+str(np.log10(Young[0]/Young[1]))+'nuvel0'\n",
    "    \n",
    "    elif topEinput == 1:\n",
    "        wpb_string = ''\n",
    "\n",
    "    # Abaqus file name\n",
    "    abqfile = root + res_string + restrictMOP_string + wpb_string +'.inp'\n",
    "\n",
    "elif analysis_type == 2:\n",
    "\n",
    "    # Abaqus file name\n",
    "    abqfile = root + res_string + '.inp'    \n",
    "    \n",
    "# Opening the output file (i.e. abaqus input file)    \n",
    "fidab = open(abqfile, 'w')\n"
   ]
  },
  {
   "cell_type": "markdown",
   "metadata": {},
   "source": [
    "## 6. Write file with restricted MOP values"
   ]
  },
  {
   "cell_type": "code",
   "execution_count": 7,
   "metadata": {},
   "outputs": [],
   "source": [
    "if analysis_type == 1:\n",
    "    if restrictMOP == 1:\n",
    "        restrictMOPfile = root + res_string + restrictMOP_string + '_MOP'\n",
    "        fid = open(restrictMOPfile,'w')\n",
    "        for i in range(0,sphElements):\n",
    "            fid.write('{}\\t{}\\t{}\\n'.format(PRS[i,2],PRS[i,1],PRS_Restricted[i]))\n",
    "        fid.close()"
   ]
  },
  {
   "cell_type": "markdown",
   "metadata": {},
   "source": [
    "## 7. Give dimensional values for the size of the mesh"
   ]
  },
  {
   "cell_type": "code",
   "execution_count": 8,
   "metadata": {},
   "outputs": [],
   "source": [
    "# In this section the dimensional values for the size of the mesh are given (i.e. dimensional radius).  \n",
    "# In addition, if the user requested to do so, \n",
    "# the surface nodes are displaced according to the elevation located in the geometry file.\n",
    "\n",
    "#  Construct radial geometry of mesh.\n",
    "\n",
    "# defining the radius for the sphere in km\n",
    "outerRad = 6371\n",
    "\n",
    "# Defining the a starting surface radius of 6371 km.  \n",
    "# If the user requested varibale surface, \n",
    "# the elevation will be added to the surface radius a few steps ahead.\n",
    "R = np.zeros((sphNodes,numLayers+2))\n",
    "R[:,0] = outerRad + np.zeros(sphNodes)\n",
    "\n",
    "# For the lithospheric layer subtract the layer thickness from a surface radius of 6371.\n",
    "for i in range(1,numLayers+1):\n",
    "    R[:,i] = R[:,i-1] - LithLayerThk\n",
    "\n",
    "# Subtract the radius of the base layer.  This gives the radius at the base of the weak elements.\n",
    "R[:,numLayers+1] = R[:,numLayers] - baseLayerThk\n",
    "\n",
    "# Convert R to meters**\n",
    "R = R * 1000;\n",
    "\n",
    "# Define the number of total element layers for use later.\n",
    "totalELlayers = len(R[0]) - 1\n"
   ]
  },
  {
   "cell_type": "markdown",
   "metadata": {},
   "source": [
    "## 8. Write Input File"
   ]
  },
  {
   "cell_type": "markdown",
   "metadata": {},
   "source": [
    "## 8.1 Write header, node and element"
   ]
  },
  {
   "cell_type": "code",
   "execution_count": 9,
   "metadata": {},
   "outputs": [],
   "source": [
    "# Beginning to Write Input File --> writing element section (element and associated node numbers) \n",
    "# and node number + cartesian coordinates of each node.\n",
    "\n",
    "# write file heading\n",
    "fidab.write('*HEADING\\n{}\\n**\\n'.format(abqfile))\n",
    "\n",
    "# Assign nodes to elements, i.e. \"element\" section (2 element layers). \n",
    "# Note that here the way in which the nodes are assigned to the element \n",
    "# is different than in the element connectivity file.  \n",
    "# Here, the first four nodes defined are for the bottom of the element \n",
    "# and the ordering is clock-wise around the element for those four nodes.  \n",
    "# The top layer of 4 nodes, defined second, are also ordered clockwise around the element.  \n",
    "# This new ordering scheme is required in order to be consistent with the abaqus shell \n",
    "# stress in-plane coordinate system, which depeneds on the way the nodes are assigned to the element!\n",
    "\n",
    "#fprintf('Creating Elements\\n\\n');\n",
    "for elelay in range(numLayers+1):\n",
    "    fidab.write('*ELEMENT, TYPE=SC8R, ELSET=Layer_{}_Els\\n'.format(elelay+1))\n",
    "    for i in range(sphElements): \n",
    "        element = EC[i,0]\n",
    "        node = EC[i,1:9]          \n",
    "        fidab.write(' %10d' %(element+(sphElements*(elelay))))\n",
    "        # first bottom node\n",
    "        fidab.write(', %10d' %(node[4]+(sphNodes*(elelay))))\n",
    "        # second bottom node\n",
    "        fidab.write(', %10d' %(node[7]+(sphNodes*(elelay))))\n",
    "        # third bottom node\n",
    "        fidab.write(', %10d' %(node[6]+(sphNodes*(elelay))))\n",
    "        # fourth bottom node\n",
    "        fidab.write(', %10d' %(node[5]+(sphNodes*(elelay))))\n",
    "        # first top node\n",
    "        fidab.write(', %10d' %(node[0]+(sphNodes*(elelay))))\n",
    "        # second top node\n",
    "        fidab.write(', %10d' %(node[3]+(sphNodes*(elelay))))\n",
    "        # third top node\n",
    "        fidab.write(', %10d' %(node[2]+(sphNodes*(elelay))))\n",
    "        # fourth top node\n",
    "        fidab.write(', %10d' %(node[1]+(sphNodes*(elelay))))\n",
    "       # fidab.write('%10d %10d %10d %10d %10d %10d %10d %10d %10d \\n' %(element+(sphElements*(elelay)),(node[4]+(sphNodes*(elelay))),(node[7]+(sphNodes*(elelay))),(node[6]+(sphNodes*(elelay))),(node[5]+(sphNodes*(elelay))),(node[0]+(sphNodes*(elelay))),(node[3]+(sphNodes*(elelay))),(node[2]+(sphNodes*(elelay))),(node[1]+(sphNodes*(elelay)))))\n",
    "        fidab.write('\\n')\n",
    "\n",
    "# Write \"node\" section (3 node layers)\n",
    "for nodlay in range (0,numLayers+2):\n",
    "    fidab.write('*NODE, SYSTEM=R, NSET=Layer_{}_Nds\\n'.format(nodlay+1))\n",
    "    for i in range(0,sphNodes):\n",
    "        fidab.write(' %10d, %12.4e, %12.4e, %12.4e\\n' %(N[i,0]+(nodlay)*sphNodes, N[i,1]*R[i,nodlay], N[i,2]*R[i,nodlay], N[i,3]*R[i,nodlay]))\n"
   ]
  },
  {
   "cell_type": "markdown",
   "metadata": {},
   "source": [
    "## 8.2 Write element and node sets"
   ]
  },
  {
   "cell_type": "code",
   "execution_count": 10,
   "metadata": {},
   "outputs": [
    {
     "data": {
      "text/plain": [
       "3"
      ]
     },
     "execution_count": 10,
     "metadata": {},
     "output_type": "execute_result"
    }
   ],
   "source": [
    "# Define sets of elements.  The are two options for defining the element sets:  \n",
    "# 1) In a given element layer all the material properties are the same\n",
    "# 2) Elements material properties in a given layer depend on proximity to plate boundaries.\n",
    "\n",
    "#disp('Writing element set and node set definitions to the input file');\n",
    "\n",
    "# Define element sets for if material properties do not depend on proximity to plate boundaries.\n",
    "\n",
    "if topEinput == 1:\n",
    "    \n",
    "    # Define element set for lithospheric elements\n",
    "    fidab.write('*ELSET, ELSET=lithEls\\n')\n",
    "    for i in range(0,numLayers):\n",
    "        fidab.write('Layer_{}_Els, '.format(i+1))\n",
    "    fidab.write('\\n')\n",
    "\n",
    "    # Define element set for base elements\n",
    "    fidab.write('*ELSET, ELSET=baseEls\\n')\n",
    "    i = totalELlayers\n",
    "    fidab.write('Layer_{}_Els, '.format(i))\n",
    "    fidab.write('\\n')\n",
    "    \n",
    "    # Define element set for all elements\n",
    "    fidab.write('*ELSET, ELSET=allEls\\n')\n",
    "    for i in range(totalELlayers):\n",
    "        fidab.write('Layer_{}_Els, '.format(i+1))\n",
    "    fidab.write('\\n')\n",
    "\n",
    "# Define element sets for case where material properties depend on \n",
    "# proximity to plate boundaries.\n",
    "elif topEinput == 2:\n",
    "    \n",
    "    # Define element set for lithospheric elements near plate boundaries\n",
    "    fidab.write('*ELSET, ELSET=lithEls_PB\\n')\n",
    "    for i in range(0,numLayers):\n",
    "        fidab.write('{}\\n'.format(filePB[:,0] + ((i-1)*34992) ))\n",
    "\n",
    "    # Define element set for lithospheric elements in plate interior\n",
    "    fidab.write('*ELSET, ELSET=lithEls_PI\\n')\n",
    "    for i in range(0,numLayers):\n",
    "        fidab.write('{}\\n'.format(filePI[:,0] + ((i-1)*34992) ))\n",
    "    \n",
    "    # Define element set for base elements\n",
    "    fidab.write('*ELSET, ELSET=baseEls\\n')\n",
    "    i = totalELlayers\n",
    "    fidab.write('Layer_{}_Els, '.format(i))\n",
    "    fidab.write('\\n')\n",
    "    \n",
    "\n",
    "    # Define element set for all elements\n",
    "    fidab.write('*ELSET, ELSET=allEls\\n')\n",
    "    for i in range (0,totalELlayers):\n",
    "        fidab.write('Layer_{}_Els, '.format(i))\n",
    "    fidab.write('\\n')\n",
    "\n",
    "\n",
    "# Define sets of nodes\n",
    "fidab.write('*NSET, NSET=botNodes\\n')\n",
    "i = totalELlayers+1;\n",
    "fidab.write('Layer_{}_Nds, '.format(i))\n",
    "fidab.write('\\n')\n",
    "fidab.write('**\\n')"
   ]
  },
  {
   "cell_type": "markdown",
   "metadata": {},
   "source": [
    "## 8.3 Write assemebly section --> define materials and associated different materials with different elements sets"
   ]
  },
  {
   "cell_type": "code",
   "execution_count": 11,
   "metadata": {},
   "outputs": [],
   "source": [
    "# Note that thickness values in km are converted to meters for definition in abaqus (i.e. *1000).\n",
    "\n",
    "# Section to define material properties and solid section for when the \n",
    "# rheology does or does not depend on the proximity to the plate boundaries.\n",
    "if topEinput == 1:\n",
    "\n",
    "    # Begin Define materials\n",
    "    fidab.write('** MATERIALS\\n')\n",
    "    fidab.write('**\\n')\n",
    "\n",
    "    # Define material for lithosphere elements\n",
    "    fidab.write('*MATERIAL, NAME=lithosphere\\n')\n",
    "    fidab.write('*ELASTIC\\n')\n",
    "    fidab.write(' %16.8e, %8.4f\\n'%(Young[0], Poisson[0]))\n",
    "    fidab.write('**\\n')\n",
    "\n",
    "    # Define material for weak base elements\n",
    "    fidab.write('*MATERIAL, NAME=asthenosphere\\n')\n",
    "    fidab.write('*ELASTIC\\n')\n",
    "    fidab.write(' %16.8e, %8.4f\\n'%(Young[2], Poisson[2]))\n",
    "    fidab.write('**\\n')\n",
    "\n",
    "    # Define shell section for lithospheric \n",
    "    fidab.write('*SHELL GENERAL SECTION,ELSET=lithEls,MATERIAL=lithosphere\\n')\n",
    "    fidab.write('{}\\n'.format(LithLayerThk*1000))\n",
    "    \n",
    "    # Define shell section for weak base elements\n",
    "    fidab.write('*SHELL GENERAL SECTION,ELSET=baseEls,MATERIAL=asthenosphere\\n')\n",
    "    fidab.write('{}\\n'.format(baseLayerThk*1000))\n",
    "\n",
    "elif topEinput == 2:\n",
    "    \n",
    "    # Begin Define materials\n",
    "    fidab.write('** MATERIALS\\n')\n",
    "    fidab.write('**\\n')\n",
    "\n",
    "    # Define material for plate interior lithospheric elements\n",
    "    fidab.write('*MATERIAL, NAME=lithosphere_PI\\n')\n",
    "    fidab.write('*ELASTIC\\n')\n",
    "    fidab.write('{}\\t{}\\n'.format(Young[0], Poisson[0]))\n",
    "    fidab.write('**\\n')\n",
    "    \n",
    "    # Define material for plate boundary lithospheric elements\n",
    "    fidab.write('*MATERIAL, NAME=lithosphere_PB\\n')\n",
    "    fidab.write('*ELASTIC\\n')\n",
    "    fidab.write('{}\\t{}\\n'.format(Young[1], Poisson[1]))\n",
    "    fidab.write('**\\n')\n",
    "\n",
    "    # Define material for weak base elements\n",
    "    fidab.write('*MATERIAL, NAME=asthenosphere\\n')\n",
    "    fidab.write('*ELASTIC\\n')\n",
    "    fidab.write('{}\\t{}\\n'.format(Young[2], Poisson[2]))\n",
    "    fidab.write('**\\n')\n",
    "\n",
    "    # Define shell section for plate boundary lithospheric elements\n",
    "    fidab.write('*SHELL GENERAL SECTION,ELSET=lithEls_PB,MATERIAL=lithosphere_PB\\n');\n",
    "    fidab.write('{}\\n'.format(LithLayerThk*1000))\n",
    "    \n",
    "    # Define shell section for plate interior lithospheric elements\n",
    "    fidab.write('*SHELL GENERAL SECTION,ELSET=lithEls_PI,MATERIAL=lithosphere_PI\\n');\n",
    "    fidab.write('{}\\n'.format(LithLayerThk*1000))    \n",
    "    \n",
    "    # Define shell section for weak base elements\n",
    "    fidab.write('*SHELL GENERAL SECTION,ELSET=baseEls,MATERIAL=asthenosphere\\n');\n",
    "    fidab.write('{}\\n'.format(baseLayerThk*1000))"
   ]
  },
  {
   "cell_type": "markdown",
   "metadata": {},
   "source": [
    "## 8.4 Write conditions --> basal nodes are pinned"
   ]
  },
  {
   "cell_type": "code",
   "execution_count": 12,
   "metadata": {},
   "outputs": [
    {
     "data": {
      "text/plain": [
       "15"
      ]
     },
     "execution_count": 12,
     "metadata": {},
     "output_type": "execute_result"
    }
   ],
   "source": [
    "fidab.write('*STEP\\n')\n",
    "fidab.write('*STATIC\\n')\n",
    "fidab.write('*BOUNDARY,OP=NEW\\n')\n",
    "fidab.write('botNodes, 1, 3\\n')"
   ]
  },
  {
   "cell_type": "code",
   "execution_count": 13,
   "metadata": {},
   "outputs": [],
   "source": [
    "# Specify dynamic topography nodal displacements if requested by user\n",
    "if analysis_type == 2:\n",
    "\n",
    "    # Apply displacement boundary conditions to all nodes in the upper \n",
    "    # element layer (8 nodes per element) according to the computed values \n",
    "    # of dynamic topography at each nodes.\n",
    "    # Write first line of displacement boundary condtions\n",
    "    \n",
    "    fidab.write('*BOUNDARY,OP=NEW,TYPE=DISPLACEMENT\\n')\n",
    "    # Loop through both nodal layers of the top element layer\n",
    "    for j in range(0,2):\n",
    "        # Loop through all of the nodes\n",
    "        for i in range(0,sphNodes):\n",
    "\n",
    "            # Read in values of dynamic topography at each lat and lon\n",
    "            dynPhi = dyntopo[i,1]  # longitude\n",
    "            dynTheta = dyntopo[i,0]  # latitude\n",
    "            dynVal = dyntopo[i,2]  # value of dynamic topography in meters\n",
    "\n",
    "            # Convert angles to radians + convert lat to colat\n",
    "            if dynPhi < 0:\n",
    "                dynPhi = dynPhi + 360\n",
    "            dynPhi = dynPhi*(pi/180)\n",
    "            dynTheta = (90 - dynTheta)*(pi/180)\n",
    "\n",
    "            # Transfer dynamic topography values to cartesian coordinates\n",
    "            x = dynVal*np.sin(dynTheta)*np.cos(dynPhi)\n",
    "            y = dynVal*np.sin(dynTheta)*np.sin(dynPhi)\n",
    "            z = dynVal*np.cos(dynTheta)\n",
    "\n",
    "            # Write displacement boundary conditions to input file\n",
    "            fidab.write('   {}\\t{}\\t{}\\t{}\\n'.format(i+((j-1)*sphNodes),1,1,x)) \n",
    "            fidab.write('   {}\\t{}\\t{}\\t{}\\n'.format(i+((j-1)*sphNodes),2,2,y)) \n",
    "            fidab.write('   {}\\t{}\\t{}\\t{}\\n'.format(i+((j-1)*sphNodes),3,3,z)) "
   ]
  },
  {
   "cell_type": "markdown",
   "metadata": {},
   "source": [
    "## 8.5 Write the GPE loads into the input file if the GPE analysis was requested by the user."
   ]
  },
  {
   "cell_type": "code",
   "execution_count": 14,
   "metadata": {},
   "outputs": [],
   "source": [
    "if analysis_type == 1:\n",
    "\n",
    "    fidab.write( '**\\n')\n",
    "    fidab.write( '*DLOAD\\n')\n",
    "\n",
    "    subPres=1\n",
    "\n",
    "    # If subPres = 1 use MOP - MOP_ReferenceColumn (column six of GPE_EA file)\n",
    "    if subPres==1 and restrictMOP==0:\n",
    "\n",
    "        for k in range(0,numLayers):\n",
    "            for i in range(0,sphElements):\n",
    "                for j in range(3,7):\n",
    "                    fidab.write('%10d, P%1d, %12.7e\\n'%(PRS[i,0]+(sphElements*(k)), j, PRS[i,5]))\n",
    "\n",
    "    # If subPres = 1 use MOP (column six of GPE_EA file ~ Reference MOP subtracted) \n",
    "    # and MOP values are restricted to a specific geographical region.\n",
    "    elif subPres==1 and restrictMOP==1:\n",
    "\n",
    "        for k in range(0,numLayers):\n",
    "            for i in range(0,sphElements):\n",
    "                for j in range(3,7) :\n",
    "                    fidab.write('{}\\t{}\\t{}\\n'.format(PRS[i,0]+(sphElements*(k)), j, PRS_Restricted[i]))\n",
    "\n",
    "    # If subPres = 0 use MOP (column five of GPE_EA file ~ Reference MOP not subtracted) \n",
    "    # and MOP values are not restricted to a specific geographical region.\n",
    "    elif subPres==0 and restrictMOP==0:\n",
    "        for k in range(0,numLayers):\n",
    "            for i in range(0,sphElements):\n",
    "                for j in range(3,7) :\n",
    "                    fidab.write('{}\\t{}\\t{}\\n'.format(PRS[i,0]+(sphElements*(k)), j, PRS[i,4]))"
   ]
  },
  {
   "cell_type": "markdown",
   "metadata": {},
   "source": [
    "## 8.6 Write data to be printed out by abaqus"
   ]
  },
  {
   "cell_type": "code",
   "execution_count": 15,
   "metadata": {},
   "outputs": [],
   "source": [
    "#Write Outpur requests\n",
    "fidab.write('*EL PRINT, POSITION=CENTROIDAL, ELSET=allEls \\n')\n",
    "fidab.write('S,\\n')\n",
    "fidab.write('*END STEP\\n')\n",
    "fidab.close()"
   ]
  },
  {
   "cell_type": "code",
   "execution_count": null,
   "metadata": {},
   "outputs": [],
   "source": []
  }
 ],
 "metadata": {
  "kernelspec": {
   "display_name": "Python 3 (ipykernel)",
   "language": "python",
   "name": "python3"
  },
  "language_info": {
   "codemirror_mode": {
    "name": "ipython",
    "version": 3
   },
   "file_extension": ".py",
   "mimetype": "text/x-python",
   "name": "python",
   "nbconvert_exporter": "python",
   "pygments_lexer": "ipython3",
   "version": "3.8.12"
  }
 },
 "nbformat": 4,
 "nbformat_minor": 4
}
