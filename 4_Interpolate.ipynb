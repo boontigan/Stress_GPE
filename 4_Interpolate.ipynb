{
 "cells": [
  {
   "cell_type": "markdown",
   "metadata": {},
   "source": [
    "# INTERPOLATE"
   ]
  },
  {
   "cell_type": "markdown",
   "metadata": {},
   "source": [
    "by Gan Kuhasubpasin\n",
    "\n",
    "Interpolate geometry or gpe LDS files to the EA grid using nearest neighbor interpolation.\n",
    "\n",
    "The code is designed to interpolate up to a 0.25 degree mesh.  \n",
    "Higher resolutions would be tough to handle for Matlab!\n",
    "\n",
    "Last Modified: July 15, 2020."
   ]
  },
  {
   "cell_type": "markdown",
   "metadata": {},
   "source": [
    "## Import"
   ]
  },
  {
   "cell_type": "code",
   "execution_count": 3,
   "metadata": {},
   "outputs": [
    {
     "name": "stderr",
     "output_type": "stream",
     "text": [
      "/Users/boontigan/opt/anaconda3/lib/python3.8/site-packages/scipy/__init__.py:146: UserWarning: A NumPy version >=1.16.5 and <1.23.0 is required for this version of SciPy (detected version 1.24.4\n",
      "  warnings.warn(f\"A NumPy version >={np_minversion} and <{np_maxversion}\"\n"
     ]
    }
   ],
   "source": [
    "import numpy as np\n",
    "import pandas as pd\n",
    "import math \n",
    "import scipy.interpolate\n",
    "from matplotlib import cm\n",
    "import matplotlib.mlab as ml\n",
    "import matplotlib.pyplot as plt\n",
    "from mpl_toolkits.basemap import Basemap\n",
    "\n",
    "import warnings\n",
    "warnings.simplefilter(action = \"ignore\", category = FutureWarning)\n",
    "\n",
    "# display plots in SVG format\n",
    "%config InlineBackend.figure_format = 'svg'\n",
    "%matplotlib inline"
   ]
  },
  {
   "cell_type": "markdown",
   "metadata": {},
   "source": [
    "## 1. Input section"
   ]
  },
  {
   "cell_type": "code",
   "execution_count": 1,
   "metadata": {},
   "outputs": [
    {
     "name": "stdout",
     "output_type": "stream",
     "text": [
      "Enter 1 to load Lithosphere Geometry file or 2 for GPE file  2\n",
      "Enter root name of GEOM or GPE file (root_GEOM/GPE)  SSA\n",
      "Enter choice for grid resolution which geom/gpe values will be interpolated to \n",
      "Option 1: 2 degree \n",
      "Option 2: 1 degree \n",
      "Option 3: 0.5 degree \n",
      "Option 4: 0.25 degree 1\n"
     ]
    }
   ],
   "source": [
    "FileOption = int(input('Enter 1 to load Lithosphere Geometry file or 2 for GPE file  '))\n",
    "\n",
    "root = input('Enter root name of GEOM or GPE file (root_GEOM/GPE)  ')\n",
    "\n",
    "res = int(input('Enter choice for grid resolution which geom/gpe values will be interpolated to \\nOption 1: 2 degree \\nOption 2: 1 degree \\nOption 3: 0.5 degree \\nOption 4: 0.25 degree ')) "
   ]
  },
  {
   "cell_type": "markdown",
   "metadata": {},
   "source": [
    "## 2. Loading geometry/GPE and element/node"
   ]
  },
  {
   "cell_type": "code",
   "execution_count": 5,
   "metadata": {},
   "outputs": [],
   "source": [
    "#Loading geometry or GPE file\n",
    "##############################################################################\n",
    "if FileOption == 1:\n",
    "    FileLoad = root+'_GEOM'\n",
    "elif FileOption == 2:\n",
    "    FileLoad = root+'_GPE'\n",
    "    \n",
    "LL = np.loadtxt(FileLoad)\n",
    "\n",
    "#Load in file with element or node cartesian coordinates --> \n",
    "#these files are EA_Elements_resolution.txt or EA_Nodes_resolution.txt.\n",
    "##############################################################################\n",
    "if FileOption ==1:\n",
    "    if res == 1: \n",
    "        EA = np.loadtxt('../AbqGrid/EA_Nodes_2.txt', delimiter=',')\n",
    "    elif res == 2:\n",
    "        EA = np.loadtxt('../AbqGrid/EA_Nodes_1.txt', delimiter=',')\n",
    "    elif res == 3:\n",
    "        EA = np.loadtxt('../AbqGrid/EA_Nodes_0.5.txt', delimiter=',')\n",
    "    elif res == 4:\n",
    "        EA = np.loadtxt('../AbqGrid/EA_Nodes_0.25.txt', delimiter=',')\n",
    "elif FileOption ==2 : \n",
    "    if res == 1:\n",
    "        EA = np.loadtxt('../AbqGrid/EA_Elements_2.txt', delimiter=',')\n",
    "    elif res == 2:\n",
    "        EA = np.loadtxt('../AbqGrid/EA_Elements_1.txt', delimiter=',')\n",
    "    elif res == 3:\n",
    "        EA = np.loadtxt('../AbqGrid/EA_Elements_0.5.txt', delimiter=',')\n",
    "    elif res == 4:\n",
    "        EA = np.loadtxt('../AbqGrid/EA_Elements_0.25.txt', delimiter=',')       \n",
    "\n",
    "# Create outfile name \n",
    "##############################################################################\n",
    "if FileOption == 1:\n",
    "    if res == 1:\n",
    "        outEAfile = root+'_GEOM_EA2N'\n",
    "    elif res == 2:\n",
    "        outEAfile = root+'_GEOM_EA1N'\n",
    "    elif res == 3:\n",
    "        outEAfile = root+'_GEOM_EA0.5N'\n",
    "    elif res == 4:\n",
    "        outEAfile = root+'_GEOM_EA0.25N'\n",
    "\n",
    "elif FileOption == 2:\n",
    "    if res == 1:\n",
    "        outEAfile = root+'_GPE_EA2E'\n",
    "    elif res == 2:\n",
    "        outEAfile = root+'_GPE_EA1E'\n",
    "    elif res == 3:\n",
    "        outEAfile = root+'_GPE_EA0.5E'\n",
    "    elif res == 4:\n",
    "        outEAfile = root+'_GPE_EA0.25E'\n",
    "\n",
    "# Declare variables\n",
    "##############################################################################\n",
    "layers = 1 # number of lithospheric layers\n",
    "perlayer = len(LL[0]) - 2 # number of data columns to interpolate  -> 3 column\n",
    "sphPts = len(EA) #value should be 34992 (Elements) or 34992 (nodes)"
   ]
  },
  {
   "cell_type": "code",
   "execution_count": null,
   "metadata": {},
   "outputs": [],
   "source": [
    "len(LL[0])"
   ]
  },
  {
   "cell_type": "markdown",
   "metadata": {},
   "source": [
    "## 3. Convert grid coordinates"
   ]
  },
  {
   "cell_type": "code",
   "execution_count": 6,
   "metadata": {},
   "outputs": [],
   "source": [
    "def cart2sph(x,y,z):\n",
    "    azimuth = np.arctan2(y,x)\n",
    "    elevation = np.arctan2(z,np.sqrt(x**2 + y**2))\n",
    "    r = (x**2 + y**2 + z**2)**0.5\n",
    "    return azimuth, elevation, r"
   ]
  },
  {
   "cell_type": "code",
   "execution_count": 7,
   "metadata": {},
   "outputs": [],
   "source": [
    "# Convert the EA grid to spherical coordinates\n",
    "dtor = np.pi/180\n",
    "EALonRad,EALatRad, EAr = cart2sph(EA[:,1], EA[:,2], EA[:,3])\n",
    "\n",
    "# Put EA spherical coordinates into new variable and convert the units to degrees\n",
    "EAsph = np.zeros((sphPts,4))\n",
    "EAsph[:,0] = EAr\n",
    "EAsph[:,1] = EALatRad/dtor\n",
    "EAsph[:,2] = EALonRad/dtor\n",
    "EAsph[:,3] = EA[:,0]   # Element or node #"
   ]
  },
  {
   "cell_type": "markdown",
   "metadata": {},
   "source": [
    "## 4. Interpolation\n",
    "- This process will be taken around 3-4 minutes (due to trigonometry operations in a distance function)"
   ]
  },
  {
   "cell_type": "code",
   "execution_count": 8,
   "metadata": {},
   "outputs": [],
   "source": [
    "def distance(lat1, long1, lat2, long2):\n",
    "\n",
    "    # Convert latitude and longitude to spherical coordinates in radians.\n",
    "    dtor = np.pi/180.0\n",
    "        \n",
    "    # phi = 90 - latitude\n",
    "    phi1 = (90.0 - lat1)*dtor\n",
    "    phi2 = (90.0 - lat2)*dtor\n",
    "        \n",
    "    # theta = longitude\n",
    "    theta1 = long1*dtor\n",
    "    theta2 = long2*dtor\n",
    "        \n",
    "    # Compute spherical distance from spherical coordinates.     \n",
    "    # For two locations in spherical coordinates (1, theta, phi) and (1, theta', phi')\n",
    "    # cosine( arc length ) = sin phi sin phi' cos(theta-theta') + cos phi cos phi'\n",
    "    # distance = rho * arc length\n",
    "\n",
    "    arc = np.arccos((np.sin(phi1)*np.sin(phi2)*np.cos(theta1 - theta2) + np.cos(phi1)*np.cos(phi2)))\n",
    "\n",
    "    return arc/dtor"
   ]
  },
  {
   "cell_type": "code",
   "execution_count": 9,
   "metadata": {},
   "outputs": [],
   "source": [
    "#Distance array\n",
    "dt = np.zeros(len(LL))\n",
    "\n",
    "#Output array \n",
    "LL_itp = np.zeros((sphPts,perlayer+3))\n",
    "LL_itp[:,0] = EAsph[:,3]     #1st column: number of grid point\n",
    "LL_itp[:,1:3] = EAsph[:,1:3] #2nd 3rd column: lat and lon\n",
    "\n",
    "for i in range(0,sphPts):\n",
    "    \n",
    "    # finding the distance between two points on a sphere (in degrees!)\n",
    "    dt = distance(EAsph[i,1], EAsph[i,2], LL[:,0], LL[:,1])\n",
    "                  \n",
    "    # Sorting \"dt\" so that the distances are listed in ascending order\n",
    "    dts = np.argsort(dt)\n",
    "    \n",
    "    # Finding the 4 closest points to the node or element grid point \n",
    "    # and then find the value associated with each point.   \n",
    "    value = np.zeros((4,perlayer))  \n",
    "    npd = np.zeros(4)\n",
    "    for j in range (0,4):\n",
    "        npd[j] = dt[dts[j]]\n",
    "        value[j,0:perlayer] = LL[dts[j],2:perlayer+2]\n",
    "\n",
    "    # Calculating and printing out all of the interpolated values\n",
    "    # Interpolate the values using a simple weighted mean algorithim: \n",
    "    # multiplying each value by the distance (weigths) to the element point \n",
    "    # and then dividing by the sum of the distances\n",
    "    for k in range(0,layers*perlayer):\n",
    "        LL_itp[i,k+3]= sum(value[:,k]*npd)/(sum(npd))"
   ]
  },
  {
   "cell_type": "markdown",
   "metadata": {},
   "source": [
    "## 5. Write output file"
   ]
  },
  {
   "cell_type": "code",
   "execution_count": 10,
   "metadata": {},
   "outputs": [],
   "source": [
    "fmt = '%.1f\\t%.4f\\t%.4f\\t%.4f\\t%.4f\\t%.4f'\n",
    "np.savetxt(outEAfile, LL_itp, delimiter=' ',fmt=fmt)"
   ]
  },
  {
   "cell_type": "code",
   "execution_count": null,
   "metadata": {},
   "outputs": [],
   "source": []
  }
 ],
 "metadata": {
  "kernelspec": {
   "display_name": "Python 3 (ipykernel)",
   "language": "python",
   "name": "python3"
  },
  "language_info": {
   "codemirror_mode": {
    "name": "ipython",
    "version": 3
   },
   "file_extension": ".py",
   "mimetype": "text/x-python",
   "name": "python",
   "nbconvert_exporter": "python",
   "pygments_lexer": "ipython3",
   "version": "3.8.12"
  }
 },
 "nbformat": 4,
 "nbformat_minor": 4
}
